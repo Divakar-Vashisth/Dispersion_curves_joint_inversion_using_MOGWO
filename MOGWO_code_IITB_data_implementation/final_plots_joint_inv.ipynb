{
 "cells": [
  {
   "cell_type": "code",
   "execution_count": 1,
   "metadata": {},
   "outputs": [],
   "source": [
    "import numpy as np\n",
    "import matplotlib.pyplot as plt"
   ]
  },
  {
   "cell_type": "code",
   "execution_count": 2,
   "metadata": {},
   "outputs": [],
   "source": [
    "vs_mcmc=np.array([0.095061, 0.095061, 0.095061, 0.095061, 0.095061, 0.095061,\n",
    "       0.095061, 0.095061, 0.238149, 0.253379, 0.258858, 0.259773,\n",
    "       0.259825, 0.259825, 0.259825, 0.259825, 0.259825, 0.259825,\n",
    "       0.259825, 0.259825, 0.259825, 0.259825, 0.259825, 0.259825,\n",
    "       0.259825, 0.259825, 0.263563, 0.274594, 0.504443, 0.552215,\n",
    "       0.583528, 0.583528, 0.583528, 0.583528, 0.583528, 0.583528,\n",
    "       0.583528, 0.583528, 0.583528, 0.583528, 0.583528, 0.583528,\n",
    "       0.594749, 0.619513, 0.63755 , 0.642968, 0.649158, 0.649282,\n",
    "       0.649282, 0.649282, 0.649282, 0.649282, 0.649282, 0.649282,\n",
    "       0.649282, 0.649282, 0.649282, 0.649282, 0.649282, 0.649282,\n",
    "       0.649282, 0.649282, 0.649282, 0.649282, 0.649282, 0.649282,\n",
    "       0.649282, 0.649282, 0.649282, 0.649282, 0.649282, 0.649282,\n",
    "       0.649282, 0.649282, 0.649282, 0.649282, 0.649282, 0.649282,\n",
    "       0.649282, 0.649282, 0.649282, 0.649282, 0.649282, 0.649282,\n",
    "       0.649282, 0.656869, 0.675521, 0.707615, 1.160883, 1.174276,\n",
    "       1.179188, 1.182292, 1.18244 , 1.18244 , 1.18244 , 1.18244 ,\n",
    "       1.18244 , 1.18244 , 1.18244 , 1.18244 ])\n",
    "\n",
    "vp_mcmc=np.array([0.779013, 0.779013, 0.779013, 0.779013, 0.779013, 0.779013,\n",
    "       0.779013, 0.779013, 1.132802, 1.877577, 1.920903, 1.927493,\n",
    "       1.928168, 1.928168, 1.928168, 1.928168, 1.928168, 1.928168,\n",
    "       1.928168, 1.928168, 1.928168, 1.928168, 1.928168, 1.928168,\n",
    "       1.928168, 1.928168, 2.019431, 2.197992, 2.594595, 2.895345,\n",
    "       3.003323, 3.003323, 3.003323, 3.003323, 3.003323, 3.003323,\n",
    "       3.003323, 3.003323, 3.003323, 3.003323, 3.003323, 3.003323,\n",
    "       3.029801, 3.218156, 3.379492, 3.466723, 3.570581, 3.607794,\n",
    "       3.607794, 3.607794, 3.607794, 3.607794, 3.607794, 3.607794,\n",
    "       3.607794, 3.607794, 3.607794, 3.607794, 3.607794, 3.607794,\n",
    "       3.607794, 3.607794, 3.607794, 3.607794, 3.607794, 3.607794,\n",
    "       3.607794, 3.607794, 3.607794, 3.607794, 3.607794, 3.607794,\n",
    "       3.607794, 3.607794, 3.607794, 3.607794, 3.607794, 3.607794,\n",
    "       3.607794, 3.607794, 3.607794, 3.607794, 3.607794, 3.607794,\n",
    "       3.607794, 3.663817, 3.69807 , 3.728997, 3.753587, 3.789405,\n",
    "       3.859584, 3.950577, 3.958141, 3.958141, 3.958141, 3.958141,\n",
    "       3.958141, 3.958141, 3.958141, 3.958141])\n",
    "\n",
    "ro_mcmc=np.array([1.050023, 1.050023, 1.050023, 1.050023, 1.050023, 1.050023,\n",
    "       1.050023, 1.050023, 1.15089 , 1.756184, 1.782228, 1.789434,\n",
    "       1.789915, 1.789915, 1.789915, 1.789915, 1.789915, 1.789915,\n",
    "       1.789915, 1.789915, 1.789915, 1.789915, 1.789915, 1.789915,\n",
    "       1.789915, 1.789915, 1.823066, 1.868335, 2.021201, 2.101733,\n",
    "       2.165019, 2.165019, 2.165019, 2.165019, 2.165019, 2.165019,\n",
    "       2.165019, 2.165019, 2.165019, 2.165019, 2.165019, 2.165019,\n",
    "       2.176627, 2.254964, 2.304129, 2.35406 , 2.413321, 2.437509,\n",
    "       2.437509, 2.437509, 2.437509, 2.437509, 2.437509, 2.437509,\n",
    "       2.437509, 2.437509, 2.437509, 2.437509, 2.437509, 2.437509,\n",
    "       2.437509, 2.437509, 2.437509, 2.437509, 2.437509, 2.437509,\n",
    "       2.437509, 2.437509, 2.437509, 2.437509, 2.437509, 2.437509,\n",
    "       2.437509, 2.437509, 2.437509, 2.437509, 2.437509, 2.437509,\n",
    "       2.437509, 2.437509, 2.437509, 2.437509, 2.437509, 2.437509,\n",
    "       2.437509, 2.459583, 2.465814, 2.488098, 2.490421, 2.502183,\n",
    "       2.515507, 2.524545, 2.525401, 2.525401, 2.525401, 2.525401,\n",
    "       2.525401, 2.525401, 2.525401, 2.525401])"
   ]
  },
  {
   "cell_type": "code",
   "execution_count": 3,
   "metadata": {},
   "outputs": [],
   "source": [
    "z_mcmc=np.array([0.000171, 0.000342, 0.000513, 0.000684, 0.000855, 0.001026,\n",
    "       0.001197, 0.001368, 0.001539, 0.00171 , 0.001881, 0.002052,\n",
    "       0.002223, 0.002394, 0.002565, 0.002736, 0.002907, 0.003078,\n",
    "       0.003249, 0.00342 , 0.003591, 0.003762, 0.003933, 0.004104,\n",
    "       0.004275, 0.004446, 0.004617, 0.004788, 0.004959, 0.00513 ,\n",
    "       0.005301, 0.005472, 0.005643, 0.005814, 0.005985, 0.006156,\n",
    "       0.006327, 0.006498, 0.006669, 0.00684 , 0.007011, 0.007182,\n",
    "       0.007353, 0.007524, 0.007695, 0.007866, 0.008037, 0.008208,\n",
    "       0.008379, 0.00855 , 0.008721, 0.008892, 0.009063, 0.009234,\n",
    "       0.009405, 0.009576, 0.009747, 0.009918, 0.010089, 0.01026 ,\n",
    "       0.010431, 0.010602, 0.010773, 0.010944, 0.011115, 0.011286,\n",
    "       0.011457, 0.011628, 0.011799, 0.01197 , 0.012141, 0.012312,\n",
    "       0.012483, 0.012654, 0.012825, 0.012996, 0.013167, 0.013338,\n",
    "       0.013509, 0.01368 , 0.013851, 0.014022, 0.014193, 0.014364,\n",
    "       0.014535, 0.014706, 0.014877, 0.015048, 0.015219, 0.01539 ,\n",
    "       0.015561, 0.015732, 0.015903, 0.016074, 0.016245, 0.016416,\n",
    "       0.016587, 0.016758, 0.016929, 0.016929])"
   ]
  },
  {
   "cell_type": "code",
   "execution_count": 4,
   "metadata": {},
   "outputs": [],
   "source": [
    "vs_mcmc=np.append(vs_mcmc,vs_mcmc[-1])\n",
    "vp_mcmc=np.append(vp_mcmc,vp_mcmc[-1])\n",
    "ro_mcmc=np.append(ro_mcmc,ro_mcmc[-1])\n",
    "z_mcmc=np.append(z_mcmc,0.025)"
   ]
  },
  {
   "cell_type": "code",
   "execution_count": 5,
   "metadata": {},
   "outputs": [],
   "source": [
    "ro_computed_plot=np.empty([22,10])\n",
    "vs_computed_plot=np.empty([22,10])\n",
    "vp_computed_plot=np.empty([22,10])\n",
    "z_computed_plot=np.empty([22,10])\n",
    "    \n",
    "for i in range(22):\n",
    "    ff=open('final_model'+str(i+1)+'.txt','r')\n",
    "    xx=[]\n",
    "    for x in ff:\n",
    "        xx.append(float(x))\n",
    "    ff.close()\n",
    "    \n",
    "    ztop_final=xx[0:4]\n",
    "    vp_final=xx[4:9]\n",
    "    vs_final=xx[9:14]\n",
    "    ro_final=xx[14:19]\n",
    "    \n",
    "    j=0\n",
    "    for vp in vp_final:\n",
    "        vp_computed_plot[i][j]=vp\n",
    "        j=j+1\n",
    "        vp_computed_plot[i][j]=vp\n",
    "        j=j+1\n",
    "        \n",
    "    j=0\n",
    "    for vs in vs_final:\n",
    "        vs_computed_plot[i][j]=vs\n",
    "        j=j+1\n",
    "        vs_computed_plot[i][j]=vs\n",
    "        j=j+1\n",
    "        \n",
    "    j=0\n",
    "    for ro in ro_final:\n",
    "        ro_computed_plot[i][j]=ro\n",
    "        j=j+1\n",
    "        ro_computed_plot[i][j]=ro\n",
    "        j=j+1\n",
    "        \n",
    "    j=1\n",
    "    z_computed_plot[i][0]=0.0\n",
    "    for z in ztop_final:\n",
    "        z_computed_plot[i][j]=z\n",
    "        j=j+1\n",
    "        z_computed_plot[i][j]=z\n",
    "        j=j+1\n",
    "    z_computed_plot[i][-1]=0.025\n",
    "        \n",
    " "
   ]
  },
  {
   "cell_type": "code",
   "execution_count": 6,
   "metadata": {},
   "outputs": [],
   "source": [
    "xxmean=np.array([1.57469894341185,4.7633618590224,8.11234731216322,15.333162187597,915.921441029947,2172.38682685116,3083.02892703787,3626.97395620617,4038.39276201794,103.323746760453,277.57303507105,575.052520995251,640.125862181707,1229.4438689089,1.03756248634822,1.82700224355,2.25818032412611,2.54663475304871,2.66258247263224])/1000\n",
    "\n",
    "ztop_final_mean=xxmean[0:4]\n",
    "vp_final_mean=xxmean[4:9]\n",
    "vs_final_mean=xxmean[9:14]\n",
    "\n",
    "vs_computed_plot_mean=[]\n",
    "vp_computed_plot_mean=[]\n",
    "z_computed_plot_mean=[0.0]\n",
    "for vp in vp_final_mean:\n",
    "    vp_computed_plot_mean.append(vp)\n",
    "    vp_computed_plot_mean.append(vp)\n",
    "\n",
    "for vs in vs_final_mean:\n",
    "    vs_computed_plot_mean.append(vs)\n",
    "    vs_computed_plot_mean.append(vs)\n",
    "\n",
    "for z in ztop_final_mean:\n",
    "    z_computed_plot_mean.append(z)\n",
    "    z_computed_plot_mean.append(z)\n",
    "z_computed_plot_mean.append(0.025) "
   ]
  },
  {
   "cell_type": "code",
   "execution_count": 7,
   "metadata": {},
   "outputs": [],
   "source": [
    "ztop_lb=[2./1000, 6./1000, 9./1000, 16./1000]\n",
    "vp_lb=[500./1000,    1500./1000,   2500./1000,   3000./1000,   3500./1000]\n",
    "vs_lb=[85./1000,   200./1000,   500./1000,   600./1000,   900./1000]\n",
    "ro_lb=[1.01,  1.6,   2.0,   2.3,   2.4]\n",
    "\n",
    "vs_lb_plot=[]\n",
    "ro_lb_plot=[]\n",
    "vp_lb_plot=[]\n",
    "z_lb_plot=[0.0]\n",
    "\n",
    "for vp in vp_lb:\n",
    "    vp_lb_plot.append(vp)\n",
    "    vp_lb_plot.append(vp)\n",
    "\n",
    "for vs in vs_lb:\n",
    "    vs_lb_plot.append(vs)\n",
    "    vs_lb_plot.append(vs)\n",
    "    \n",
    "for ro in ro_lb:\n",
    "    ro_lb_plot.append(ro)\n",
    "    ro_lb_plot.append(ro)\n",
    "\n",
    "for z in ztop_lb:\n",
    "    z_lb_plot.append(z)\n",
    "    z_lb_plot.append(z)\n",
    "z_lb_plot.append(0.025)"
   ]
  },
  {
   "cell_type": "code",
   "execution_count": 8,
   "metadata": {},
   "outputs": [],
   "source": [
    "ztop_ub=[1./1000, 4./1000, 7./1000, 14./1000]\n",
    "vp_ub=[1200./1000,   2500./1000,   3500./1000,   4000./1000,   4500./1000]\n",
    "vs_ub=[200./1000,  400./1000,   700./1000,   800./1000,   1275./1000]\n",
    "ro_ub=[1.15,  1.9,   2.3,   2.6,   2.7]\n",
    "\n",
    "vs_ub_plot=[]\n",
    "ro_ub_plot=[]\n",
    "vp_ub_plot=[]\n",
    "z_ub_plot=[0.0]\n",
    "for vp in vp_ub:\n",
    "    vp_ub_plot.append(vp)\n",
    "    vp_ub_plot.append(vp)\n",
    "\n",
    "for vs in vs_ub:\n",
    "    vs_ub_plot.append(vs)\n",
    "    vs_ub_plot.append(vs)\n",
    "    \n",
    "for ro in ro_ub:\n",
    "    ro_ub_plot.append(ro)\n",
    "    ro_ub_plot.append(ro)\n",
    "\n",
    "for z in ztop_ub:\n",
    "    z_ub_plot.append(z)\n",
    "    z_ub_plot.append(z)\n",
    "z_ub_plot.append(0.025)  "
   ]
  },
  {
   "cell_type": "code",
   "execution_count": 9,
   "metadata": {},
   "outputs": [
    {
     "data": {
      "image/png": "[encoded data removed]",
      "text/plain": [
       "<Figure size 432x288 with 1 Axes>"
      ]
     },
     "metadata": {
      "needs_background": "light"
     },
     "output_type": "display_data"
    }
   ],
   "source": [
    "#S- wave velocity plot\n",
    "plt.plot(vs_computed_plot[2][:],z_computed_plot[2][:]*-1000,'--r',label='MOGWO Computed Vs')\n",
    "for i in range(3,22):\n",
    "    plt.plot(vs_computed_plot[i][:],z_computed_plot[i][:]*-1000,'--r')\n",
    "plt.plot(vs_mcmc,z_mcmc*-1000,'-g',linewidth=2, label=' MCMC Computed Vs')\n",
    "plt.plot(vs_computed_plot_mean,np.array(z_computed_plot_mean)*-1000,'b',linewidth=2,label='MOGWO Mean Vs')\n",
    "plt.plot(vs_lb_plot,np.array(z_lb_plot)*-1000,'k', label=' Search Space')\n",
    "plt.plot(vs_ub_plot,np.array(z_ub_plot)*-1000,'k')\n",
    "plt.xlabel('Vs(km/s)',fontweight='bold')\n",
    "plt.ylabel('Depth(m)',fontweight='bold')\n",
    "plt.legend()\n",
    "plt.ylim(-0.025*1000,0)\n",
    "plt.tight_layout()\n",
    "##vs_computed_plot[0][:] and vs_computed_plot[1][:] not plotted because they were touching bounds"
   ]
  },
  {
   "cell_type": "code",
   "execution_count": 10,
   "metadata": {},
   "outputs": [
    {
     "data": {
      "image/png": "[encoded data removed]",
      "text/plain": [
       "<Figure size 432x288 with 1 Axes>"
      ]
     },
     "metadata": {
      "needs_background": "light"
     },
     "output_type": "display_data"
    }
   ],
   "source": [
    "#P- wave velocity plot\n",
    "plt.plot(vp_computed_plot[2][:],z_computed_plot[2][:]*-1000,'--r',label='MOGWO Computed Vp')\n",
    "for i in range(3,22):\n",
    "    plt.plot(vp_computed_plot[i][:],z_computed_plot[i][:]*-1000,'--r')\n",
    "plt.plot(vp_mcmc,z_mcmc*-1000,'-g',linewidth=2, label=' MCMC Computed Vp')\n",
    "plt.plot(vp_computed_plot_mean,np.array(z_computed_plot_mean)*-1000,'b',linewidth=2,label='MOGWO Mean Vp')\n",
    "plt.plot(vp_lb_plot,np.array(z_lb_plot)*-1000,'k', label=' Search Space')\n",
    "plt.plot(vp_ub_plot,np.array(z_ub_plot)*-1000,'k')\n",
    "plt.xlabel('Vp(km/s)',fontweight='bold')\n",
    "plt.ylabel('Depth(m)',fontweight='bold')\n",
    "plt.legend()\n",
    "plt.ylim(-0.025*1000,0)\n",
    "plt.tight_layout()\n",
    "##vp_computed_plot[0][:] and vp_computed_plot[1][:] not plotted because they were touching bounds"
   ]
  },
  {
   "cell_type": "code",
   "execution_count": null,
   "metadata": {},
   "outputs": [],
   "source": []
  },
  {
   "cell_type": "code",
   "execution_count": null,
   "metadata": {},
   "outputs": [],
   "source": []
  },
  {
   "cell_type": "code",
   "execution_count": null,
   "metadata": {},
   "outputs": [],
   "source": []
  }
 ],
 "metadata": {
  "kernelspec": {
   "display_name": "Python 2",
   "language": "python",
   "name": "python2"
  },
  "language_info": {
   "codemirror_mode": {
    "name": "ipython",
    "version": 2
   },
   "file_extension": ".py",
   "mimetype": "text/x-python",
   "name": "python",
   "nbconvert_exporter": "python",
   "pygments_lexer": "ipython2",
   "version": "2.7.18"
  }
 },
 "nbformat": 4,
 "nbformat_minor": 2
}
